{
  "cells": [
    {
      "cell_type": "markdown",
      "metadata": {
        "id": "view-in-github",
        "colab_type": "text"
      },
      "source": [
        "<a href=\"https://colab.research.google.com/github/Lucca465/dimensionality_reduction_in_big_data/blob/main/reduction_image_pca.ipynb\" target=\"_parent\"><img src=\"https://colab.research.google.com/assets/colab-badge.svg\" alt=\"Open In Colab\"/></a>"
      ]
    },
    {
      "cell_type": "code",
      "execution_count": null,
      "id": "c76e274d",
      "metadata": {
        "id": "c76e274d"
      },
      "outputs": [],
      "source": [
        "import numpy as np\n",
        "import matplotlib.pyplot as plt\n",
        "from PIL import Image\n",
        "#import Image\n",
        "from numpy.linalg import eig\n",
        "from numpy import cov\n",
        "from pylab import imread,subplot,imshow,title,gray,figure,show,NullLocator"
      ]
    },
    {
      "cell_type": "code",
      "execution_count": null,
      "id": "8ee350af",
      "metadata": {
        "id": "8ee350af"
      },
      "outputs": [],
      "source": [
        "def PCA(Features,image,n_components):\n",
        "\n",
        "    D, V = eig(cov(Features, rowvar=False))\n",
        "\n",
        "    V = V[:, np.argsort(D)]  # Eigen vector with maximum variance is at last\n",
        "\n",
        "    # eigen values are not very similar there is variation so the dataset is not in a good subspace\n",
        "\n",
        "    X = Features - np.tile(Features.mean(axis=0), [Features.shape[0], 1])  #Centre data\n",
        "    D = sorted(D, reverse=True)\n",
        "    var = []\n",
        "\n",
        "    for k in range(3):\n",
        "        var.append(D[k])\n",
        "\n",
        "    # Find info given by first component\n",
        "    print(np.sum(var)/np.sum(D)*100)\n",
        "    #print \"Variance\", var\n",
        "    #print \"Component 1\", V[:, -1]\n",
        "    #print X.shape\n",
        "    # Map X through the PCA (rotate axes):\n",
        "\n",
        "    Z=  np.matmul(X, V) #score\n",
        "    num=1\n",
        "\n",
        "    for component in n_components:\n",
        "\n",
        "        T = Z[:,V.shape[0]-component:V.shape[0]]  # n pca\n",
        "\n",
        "        E =  V[:, V.shape[0]-component:V.shape[0]] # n pca components(most variance)\n",
        "\n",
        "        R = np.dot(T,np.transpose(E)) + np.mean(Features,axis=0)\n",
        "\n",
        "\n",
        "\n",
        "    #Now reconstruct the whole image\n",
        "\n",
        "        pixel_block = 10\n",
        "        im_height= 200\n",
        "        im_width=200\n",
        "        Reconstructed_image = np.zeros(shape=(200,200))\n",
        "        x=0\n",
        "        for i in range(0, im_height, pixel_block):  # row (200)  #run 20 times\n",
        "            for j in range(0, im_width, pixel_block):  #column (200)  #run 20 times\n",
        "                end_row = i + pixel_block\n",
        "                end_column = j + pixel_block\n",
        "                Reconstructed_image[end_row-pixel_block:end_row,end_column-pixel_block:end_column]=np.reshape(R[x],(10,10))\n",
        "                x+=1\n",
        "\n",
        "        ax = subplot(3, 2, num, frame_on=False)\n",
        "        ax.xaxis.set_major_locator(NullLocator())  # remove ticks\n",
        "        ax.yaxis.set_major_locator(NullLocator())\n",
        "        num += 1\n",
        "        print(Reconstructed_image.shape)\n",
        "        plt.imshow(np.flipud(Reconstructed_image),cmap='gray',origin='lower')\n",
        "        plt.title('PCs # ' + str(component))\n",
        "\n",
        "    plt.show()\n",
        "\n",
        "    return(Reconstructed_image)\n",
        "    #plt.imshow(Reconstructed_image,cmap='gray')\n",
        "    #plt.show()"
      ]
    },
    {
      "cell_type": "code",
      "execution_count": null,
      "id": "8274b02b",
      "metadata": {
        "id": "8274b02b"
      },
      "outputs": [],
      "source": [
        "import os\n",
        "from PIL import Image\n",
        "\n",
        "n_components = 5\n",
        "\n",
        "# Diretório que contém as imagens\n",
        "diretorio = r'D:\\dataset_images\\train2014'\n",
        "\n",
        "# Lista para armazenar as imagens\n",
        "imagens_reduzidas = []\n",
        "\n",
        "# Verifica todos os arquivos na pasta\n",
        "for train2014 in os.listdir(diretorio):\n",
        "    # Verifica se o arquivo é uma imagem com base na extensão (por exemplo, .jpg, .png, .jpeg, etc.)\n",
        "    if train2014.lower().endswith(('.png', '.jpg', '.jpeg', '.gif')):\n",
        "        caminho_completo = os.path.join(diretorio, train2014)\n",
        "        # Carrega a imagem usando o Pillow\n",
        "        imagem = Image.open(caminho_completo)\n",
        "        # Converte a imagem para preto e branco (modo \"L\")\n",
        "        imagem_pb = imagem.convert(\"L\")\n",
        "\n",
        "        img = np.array(imagem_pb)\n",
        "        img =  img[:,:,0]\n",
        "\n",
        "        im_width,im_height =imagem_pb.size\n",
        "        pixel_block = 10\n",
        "        Features=[]\n",
        "\n",
        "        for i in range(0,im_height,pixel_block): #row\n",
        "            for j in range(0,im_width,pixel_block): #coliumn\n",
        "                end_row = i+pixel_block\n",
        "                end_column = j+pixel_block\n",
        "                Features.append(img[end_row-pixel_block:end_row,end_column-pixel_block:end_column]) #100 dimensional vector 10 x 10\n",
        "\n",
        "        Features=np.array(Features)\n",
        "\n",
        "        Features=Features.reshape(Features.shape[0],Features.shape[1]*Features.shape[2])\n",
        "\n",
        "        Reconstructed_image = PCA(Features,img,n_components)\n",
        "\n",
        "        lista_de_imagens.append(Reconstructed_image)\n",
        "\n",
        ""
      ]
    }
  ],
  "metadata": {
    "kernelspec": {
      "display_name": "Python 3 (ipykernel)",
      "language": "python",
      "name": "python3"
    },
    "language_info": {
      "codemirror_mode": {
        "name": "ipython",
        "version": 3
      },
      "file_extension": ".py",
      "mimetype": "text/x-python",
      "name": "python",
      "nbconvert_exporter": "python",
      "pygments_lexer": "ipython3",
      "version": "3.10.9"
    },
    "colab": {
      "provenance": [],
      "include_colab_link": true
    }
  },
  "nbformat": 4,
  "nbformat_minor": 5
}