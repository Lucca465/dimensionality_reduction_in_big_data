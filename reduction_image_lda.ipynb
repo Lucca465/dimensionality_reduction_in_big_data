{
  "cells": [
    {
      "cell_type": "markdown",
      "metadata": {
        "id": "view-in-github",
        "colab_type": "text"
      },
      "source": [
        "<a href=\"https://colab.research.google.com/github/Lucca465/dimensionality_reduction_in_big_data/blob/main/reduction_image_lda.ipynb\" target=\"_parent\"><img src=\"https://colab.research.google.com/assets/colab-badge.svg\" alt=\"Open In Colab\"/></a>"
      ]
    },
    {
      "cell_type": "code",
      "execution_count": null,
      "id": "44a274d4",
      "metadata": {
        "id": "44a274d4"
      },
      "outputs": [],
      "source": [
        "import os\n",
        "from PIL import Image\n",
        "from sklearn.discriminant_analysis import LinearDiscriminantAnalysis\n",
        "\n",
        "\n",
        "# Diretório que contém as imagens\n",
        "diretorio = r'D:\\dataset_images\\train2014'\n",
        "\n",
        "# Lista para armazenar as imagens\n",
        "imagens_reduzidas = []\n",
        "\n",
        "for train2014 in os.listdir(diretorio):\n",
        "    if train2014.lower().endswith(('.png', '.jpg', '.jpeg', '.gif')):\n",
        "        caminho_completo = os.path.join(diretorio, train2014)\n",
        "        imagem = Image.open(caminho_completo)\n",
        "        # Converte a imagem para preto e branco (modo \"L\")\n",
        "        imagem_pb = imagem.convert(\"L\")\n",
        "\n",
        "        lda = LinearDiscriminantAnalysis(n_components = 16)\n",
        "\n",
        "        imagem_lda = lda.fit_transform(imagem_pb)\n",
        "\n",
        "        imagem_lda_invertido = lda.inverse_transform(imagem_lda)\n",
        "\n",
        "        imagens_reduzidas.append(imagem_lda_invertido)"
      ]
    }
  ],
  "metadata": {
    "kernelspec": {
      "display_name": "Python 3 (ipykernel)",
      "language": "python",
      "name": "python3"
    },
    "language_info": {
      "codemirror_mode": {
        "name": "ipython",
        "version": 3
      },
      "file_extension": ".py",
      "mimetype": "text/x-python",
      "name": "python",
      "nbconvert_exporter": "python",
      "pygments_lexer": "ipython3",
      "version": "3.10.9"
    },
    "colab": {
      "provenance": [],
      "include_colab_link": true
    }
  },
  "nbformat": 4,
  "nbformat_minor": 5
}